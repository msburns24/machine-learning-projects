{
 "cells": [
  {
   "cell_type": "code",
   "execution_count": 1,
   "metadata": {},
   "outputs": [],
   "source": [
    "# CIFAR10 Dataset\n",
    "\n",
    "# Contains 60,000 images from 10 classes. \n",
    "# Images are 32x32, RGB --> Each shape = (32, 32, 3) \n",
    "\n",
    "classes = [\n",
    "    'automobile',\n",
    "    'bird',\n",
    "    'cat',\n",
    "    'deer',\n",
    "    'dog',\n",
    "    'frog',\n",
    "    'horse',\n",
    "    'ship',\n",
    "    'truck'\n",
    "]"
   ]
  },
  {
   "cell_type": "code",
   "execution_count": 2,
   "metadata": {},
   "outputs": [],
   "source": [
    "import os\n",
    "import pathlib as pl\n",
    "from keras import Sequential\n",
    "from keras.layers import (\n",
    "    Input,\n",
    "    Conv2D,\n",
    "    MaxPooling2D,\n",
    "    Dropout,\n",
    "    Flatten,\n",
    "    Dense,\n",
    "    BatchNormalization\n",
    ")\n",
    "from keras.optimizers import Adam\n",
    "from keras.utils import to_categorical\n",
    "import numpy as np\n",
    "import seaborn as sns\n",
    "import matplotlib.pyplot as plt\n",
    "from dataset import load_data"
   ]
  },
  {
   "cell_type": "code",
   "execution_count": 3,
   "metadata": {},
   "outputs": [],
   "source": [
    "# Ignore GPU warnings from TensorFlow\n",
    "os.environ['TF_CPP_MIN_LOG_LEVEL'] = '2'"
   ]
  },
  {
   "cell_type": "code",
   "execution_count": 4,
   "metadata": {},
   "outputs": [],
   "source": [
    "(X_train, y_train), (X_test, y_test) = load_data()\n",
    "X_train = X_train.astype('float32') / 255\n",
    "X_test  = X_test.astype('float32') / 255\n",
    "y_train = to_categorical(y_train, num_classes=10)\n",
    "y_test  = to_categorical(y_test, num_classes=10)"
   ]
  },
  {
   "cell_type": "code",
   "execution_count": 5,
   "metadata": {},
   "outputs": [],
   "source": [
    "# Layer Arguments\n",
    "input_shape = X_train.shape[1:]\n",
    "conv_kwargs = dict(\n",
    "    kernel_size=(3,3),\n",
    "    padding='same',\n",
    "    kernel_initializer='he_normal',\n",
    "    activation='relu',\n",
    ")\n",
    "pool_size=(2,2)\n",
    "do1_rate = 0.25\n",
    "do2_rate = 0.5\n",
    "dense1_kwargs = dict(\n",
    "    units=312,\n",
    "    activation='relu',\n",
    "    kernel_initializer='he_normal',\n",
    ")\n",
    "dense2_kwargs = dict(\n",
    "    units=10,\n",
    "    activation='softmax',\n",
    "    kernel_initializer='glorot_uniform',\n",
    ")"
   ]
  },
  {
   "cell_type": "code",
   "execution_count": 6,
   "metadata": {},
   "outputs": [],
   "source": [
    "# Model\n",
    "model = Sequential()\n",
    "model.add(Input(shape=input_shape))\n",
    "for n_f in (32, 64):\n",
    "    model.add(Conv2D(n_f, **conv_kwargs))\n",
    "    model.add(BatchNormalization()),\n",
    "    model.add(Conv2D(n_f, **conv_kwargs))\n",
    "    model.add(MaxPooling2D(pool_size=pool_size))\n",
    "    model.add(Dropout(do1_rate))\n",
    "    model.add(BatchNormalization())\n",
    "# FLATTEN -> DENSE -> RELU -> DROPOUT\n",
    "model.add(Flatten())\n",
    "model.add(Dense(**dense1_kwargs))\n",
    "model.add(BatchNormalization())\n",
    "# DENSE -> SOFTMAX\n",
    "model.add(Dense(**dense2_kwargs))"
   ]
  },
  {
   "cell_type": "code",
   "execution_count": 7,
   "metadata": {},
   "outputs": [
    {
     "ename": "",
     "evalue": "",
     "output_type": "error",
     "traceback": [
      "\u001b[1;31mThe Kernel crashed while executing code in the current cell or a previous cell. \n",
      "\u001b[1;31mPlease review the code in the cell(s) to identify a possible cause of the failure. \n",
      "\u001b[1;31mClick <a href='https://aka.ms/vscodeJupyterKernelCrash'>here</a> for more info. \n",
      "\u001b[1;31mView Jupyter <a href='command:jupyter.viewOutput'>log</a> for further details."
     ]
    }
   ],
   "source": [
    "model.compile(\n",
    "     optimizer=Adam(learning_rate=0.005),\n",
    "     loss='categorical_crossentropy',\n",
    "     metrics=['accuracy'],\n",
    " )"
   ]
  },
  {
   "cell_type": "code",
   "execution_count": null,
   "metadata": {},
   "outputs": [
    {
     "name": "stdout",
     "output_type": "stream",
     "text": [
      "Epoch 1/100\n",
      "1250/1250 - 60s - 48ms/step - accuracy: 0.5423 - loss: 1.3111 - val_accuracy: 0.5990 - val_loss: 1.1196\n",
      "Epoch 2/100\n",
      "1250/1250 - 57s - 46ms/step - accuracy: 0.6927 - loss: 0.8758 - val_accuracy: 0.7018 - val_loss: 0.8768\n",
      "Epoch 3/100\n",
      "1250/1250 - 57s - 46ms/step - accuracy: 0.7376 - loss: 0.7502 - val_accuracy: 0.7163 - val_loss: 0.8544\n",
      "Epoch 4/100\n",
      "1250/1250 - 58s - 46ms/step - accuracy: 0.7698 - loss: 0.6561 - val_accuracy: 0.7455 - val_loss: 0.7612\n",
      "Epoch 5/100\n",
      "1250/1250 - 58s - 47ms/step - accuracy: 0.7961 - loss: 0.5827 - val_accuracy: 0.7712 - val_loss: 0.6727\n",
      "Epoch 6/100\n",
      "1250/1250 - 58s - 47ms/step - accuracy: 0.8112 - loss: 0.5399 - val_accuracy: 0.7763 - val_loss: 0.6841\n",
      "Epoch 7/100\n",
      "1250/1250 - 58s - 47ms/step - accuracy: 0.8284 - loss: 0.4824 - val_accuracy: 0.7838 - val_loss: 0.6813\n",
      "Epoch 8/100\n",
      "1250/1250 - 58s - 47ms/step - accuracy: 0.8548 - loss: 0.4143 - val_accuracy: 0.7385 - val_loss: 1.0056\n",
      "Epoch 9/100\n",
      "1250/1250 - 58s - 47ms/step - accuracy: 0.8618 - loss: 0.3932 - val_accuracy: 0.8010 - val_loss: 0.6212\n",
      "Epoch 10/100\n",
      "1250/1250 - 58s - 47ms/step - accuracy: 0.8836 - loss: 0.3297 - val_accuracy: 0.7870 - val_loss: 0.7029\n",
      "Epoch 11/100\n",
      "1250/1250 - 59s - 47ms/step - accuracy: 0.8907 - loss: 0.3162 - val_accuracy: 0.7806 - val_loss: 0.7365\n",
      "Epoch 12/100\n",
      "1250/1250 - 58s - 47ms/step - accuracy: 0.8980 - loss: 0.2913 - val_accuracy: 0.6315 - val_loss: 1.2967\n",
      "Epoch 13/100\n",
      "1250/1250 - 58s - 47ms/step - accuracy: 0.8885 - loss: 0.3247 - val_accuracy: 0.7899 - val_loss: 0.7443\n",
      "Epoch 14/100\n",
      "1250/1250 - 59s - 47ms/step - accuracy: 0.9181 - loss: 0.2311 - val_accuracy: 0.7869 - val_loss: 0.7699\n",
      "Epoch 15/100\n",
      "1250/1250 - 59s - 47ms/step - accuracy: 0.9073 - loss: 0.2655 - val_accuracy: 0.7751 - val_loss: 0.7830\n",
      "Epoch 16/100\n",
      "1250/1250 - 59s - 47ms/step - accuracy: 0.9257 - loss: 0.2104 - val_accuracy: 0.7970 - val_loss: 0.8259\n",
      "Epoch 17/100\n",
      "1250/1250 - 59s - 47ms/step - accuracy: 0.9157 - loss: 0.2486 - val_accuracy: 0.7971 - val_loss: 0.7297\n",
      "Epoch 18/100\n",
      "1250/1250 - 59s - 47ms/step - accuracy: 0.9317 - loss: 0.2013 - val_accuracy: 0.7954 - val_loss: 0.8039\n",
      "Epoch 19/100\n",
      "1250/1250 - 59s - 47ms/step - accuracy: 0.9298 - loss: 0.2002 - val_accuracy: 0.7807 - val_loss: 0.8610\n",
      "Epoch 20/100\n",
      "1250/1250 - 59s - 47ms/step - accuracy: 0.9334 - loss: 0.1963 - val_accuracy: 0.7894 - val_loss: 0.8617\n",
      "Epoch 21/100\n",
      "1250/1250 - 59s - 47ms/step - accuracy: 0.9413 - loss: 0.1695 - val_accuracy: 0.7895 - val_loss: 0.9377\n",
      "Epoch 22/100\n",
      "1250/1250 - 59s - 47ms/step - accuracy: 0.9410 - loss: 0.1689 - val_accuracy: 0.7411 - val_loss: 1.1019\n",
      "Epoch 23/100\n",
      "1250/1250 - 59s - 47ms/step - accuracy: 0.9416 - loss: 0.1686 - val_accuracy: 0.7993 - val_loss: 0.8147\n",
      "Epoch 24/100\n"
     ]
    }
   ],
   "source": [
    "history = model.fit(\n",
    "    X_train, y_train,\n",
    "    batch_size=32,\n",
    "    validation_split=0.2,\n",
    "    shuffle=True,\n",
    "    epochs=100,\n",
    "    verbose=2,\n",
    ")\n",
    "\n",
    "results = model.evaluate(X_test, y_test, return_dict=True)\n",
    "print(\"\\n\\n\")\n",
    "print(\"Results:\")\n",
    "print(results)"
   ]
  }
 ],
 "metadata": {
  "kernelspec": {
   "display_name": "Python 3",
   "language": "python",
   "name": "python3"
  },
  "language_info": {
   "codemirror_mode": {
    "name": "ipython",
    "version": 3
   },
   "file_extension": ".py",
   "mimetype": "text/x-python",
   "name": "python",
   "nbconvert_exporter": "python",
   "pygments_lexer": "ipython3",
   "version": "3.12.7"
  }
 },
 "nbformat": 4,
 "nbformat_minor": 2
}
