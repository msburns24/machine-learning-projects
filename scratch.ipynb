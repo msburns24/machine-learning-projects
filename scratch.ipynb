{
 "cells": [
  {
   "cell_type": "markdown",
   "metadata": {},
   "source": [
    "**Sigmoid**\n",
    "\n",
    "$$ \\sigma (z) = {1 \\over {1 + e^{-z}}} $$"
   ]
  },
  {
   "cell_type": "markdown",
   "metadata": {},
   "source": [
    "**Tanh**\n",
    "\n",
    "$$ \\tanh(z) = {{e^z - e^{-z}} \\over {e^z + e^{-z}}} $$"
   ]
  },
  {
   "cell_type": "markdown",
   "metadata": {},
   "source": [
    "## Tanh is a stretched/shifted version of sigmoid?"
   ]
  },
  {
   "cell_type": "markdown",
   "metadata": {},
   "source": [
    "What *is* stretched/shifted?\n",
    "\n",
    "1. Multiply by 2. Range went from (0, 1) to (0, 2).\n",
    "2. Subtract 1. Range went from (0, 2) to (-1, 1).\n",
    "3. Multiply $z$ by some value k. This changed how quickly we went from -1 to 1."
   ]
  },
  {
   "cell_type": "markdown",
   "metadata": {},
   "source": [
    "What does this translate to mathematically?\n",
    "\n",
    "1. $\\sigma (z) \\rightarrow 2 \\sigma (z)$\n",
    "2. $2 \\sigma (z) \\rightarrow (2 \\sigma (z) - 1)$\n",
    "3. $(2 \\sigma (z) - 1) \\rightarrow (2 \\sigma (kz) - 1)$"
   ]
  },
  {
   "cell_type": "markdown",
   "metadata": {},
   "source": [
    "What we're proposing:\n",
    "\n",
    "$$\n",
    "\\tanh(z) = 2 \\, \\sigma (kz) - 1\n",
    "$$"
   ]
  },
  {
   "cell_type": "markdown",
   "metadata": {},
   "source": [
    "$$\n",
    "{{e^z - e^{-z}} \\over {e^z + e^{-z}}} \n",
    "= 2 \\left( {1 \\over {1 + e^{-kz}}} \\right) - 1\n",
    "$$"
   ]
  },
  {
   "cell_type": "markdown",
   "metadata": {},
   "source": [
    "$$\n",
    "{{e^z - e^{-z}} \\over {e^z + e^{-z}}} \n",
    "= {2 \\over {1 + e^{-kz}}} - {{1 + e^{-kz}} \\over {1 + e^{-kz}}}\n",
    "$$"
   ]
  },
  {
   "cell_type": "markdown",
   "metadata": {},
   "source": [
    "$$\n",
    "{{e^z - e^{-z}} \\over {e^z + e^{-z}}} \n",
    "= {{2 - 1 - e^{-kz}} \\over {1 + e^{-kz}}}\n",
    "$$"
   ]
  },
  {
   "cell_type": "markdown",
   "metadata": {},
   "source": [
    "$$\n",
    "{{e^z - e^{-z}} \\over {e^z + e^{-z}}} \n",
    "= {{1 - e^{-kz}} \\over {1 + e^{-kz}}}\n",
    "$$"
   ]
  },
  {
   "cell_type": "markdown",
   "metadata": {},
   "source": [
    "$$\n",
    "{{e^z - e^{-z}} \\over {e^z + e^{-z}}} \n",
    "= {{1 - e^{-kz}} \\over {1 + e^{-kz}}}\n",
    "\\, {e^z \\over e^z}\n",
    "$$"
   ]
  },
  {
   "cell_type": "markdown",
   "metadata": {},
   "source": [
    "$$\n",
    "{{e^z - e^{-z}} \\over {e^z + e^{-z}}} \n",
    "= {{e^z - e^{-kz} e^z} \\over {e^z + e^{-kz} e^z}}\n",
    "$$"
   ]
  },
  {
   "cell_type": "markdown",
   "metadata": {},
   "source": [
    "$$\n",
    "{{e^z - e^{-z}} \\over {e^z + e^{-z}}} \n",
    "= {{e^z - e^{- (k-1) z}} \\over {e^z + e^{- (k-1) z}}}\n",
    "$$"
   ]
  },
  {
   "cell_type": "markdown",
   "metadata": {},
   "source": [
    "This is true when $(k-1) = 1$, or $k = 2$."
   ]
  },
  {
   "cell_type": "markdown",
   "metadata": {},
   "source": [
    "## Full Transformation"
   ]
  },
  {
   "cell_type": "markdown",
   "metadata": {},
   "source": [
    "$$\n",
    "\\tanh(z) = 2 \\, \\sigma (2 z) - 1\n",
    "$$"
   ]
  },
  {
   "cell_type": "markdown",
   "metadata": {},
   "source": [
    "$$\n",
    "= 2 \\left( {1 \\over {1 + e^{-2z}}} \\right) - 1\n",
    "$$"
   ]
  },
  {
   "cell_type": "markdown",
   "metadata": {},
   "source": [
    "$$\n",
    "= \\left( {2 \\over {1 + e^{-2z}}} \\right) - {{1 + e^{-2z}} \\over {1 + e^{-2z}}}\n",
    "$$"
   ]
  },
  {
   "cell_type": "markdown",
   "metadata": {},
   "source": [
    "$$\n",
    "= {{2 - (1 + e^{-2z})} \\over {1 + e^{-2z}}}\n",
    "$$"
   ]
  },
  {
   "cell_type": "markdown",
   "metadata": {},
   "source": [
    "$$\n",
    "= {{1 - e^{-2z}} \\over {1 + e^{-2z}}}\n",
    "$$"
   ]
  },
  {
   "cell_type": "markdown",
   "metadata": {},
   "source": [
    "$$\n",
    "= {{1 - e^{-2z}} \\over {1 + e^{-2z}}} \\cdot {e^z \\over e^z}\n",
    "$$"
   ]
  },
  {
   "cell_type": "markdown",
   "metadata": {},
   "source": [
    "$$\n",
    "= {{e^z - e^{-2z} \\, e^z} \\over {e^z + e^{-2z} \\, e^z}}\n",
    "$$"
   ]
  },
  {
   "cell_type": "markdown",
   "metadata": {},
   "source": [
    "$$\n",
    "= {{e^z - e^{-z}} \\over {e^z + e^{-z}}}\n",
    "$$"
   ]
  },
  {
   "cell_type": "markdown",
   "metadata": {},
   "source": [
    "$$\n",
    "= \\tanh (z)\n",
    "$$"
   ]
  }
 ],
 "metadata": {
  "language_info": {
   "name": "python"
  }
 },
 "nbformat": 4,
 "nbformat_minor": 2
}
