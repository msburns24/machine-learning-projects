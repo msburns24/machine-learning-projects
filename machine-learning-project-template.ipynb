{
 "cells": [
  {
   "cell_type": "markdown",
   "metadata": {},
   "source": [
    "# 1. Background"
   ]
  },
  {
   "cell_type": "markdown",
   "metadata": {},
   "source": [
    "**Business Objective** - Define the objective in business terms.\n",
    "\n",
    "* \n",
    "\n",
    "**Solution Usage** - How will my solution be used?\n",
    "\n",
    "* \n",
    "\n",
    "**Existing Solutions** - What are the current solutions/workarounds, if any?\n",
    "\n",
    "* \n",
    "\n",
    "**Solution Approach** - How should I frame the problem? \n",
    "(supervised/unsupervised, online/offline, etc.)\n",
    "\n",
    "* \n",
    "\n",
    "**Performance Measure** - How should performance be measured?\n",
    "\n",
    "* \n",
    "\n",
    "**Performance vs. Business Objective** - Is the performance measure aligned \n",
    "with the business objective?\n",
    "\n",
    "* \n",
    "\n",
    "**Performance Threshold** - What would be the minimum performance needed to \n",
    "meet the business objective?\n",
    "\n",
    "* \n",
    "\n",
    "**Comparable Solutions** - What are compariable problems? Can I reuse \n",
    "experience or tools?\n",
    "\n",
    "* \n",
    "\n",
    "**Human Expertise** - Is human expertise available?\n",
    "\n",
    "* \n",
    "\n",
    "**Manual Solution** - How would I solve the problem manually?\n",
    "\n",
    "* \n",
    "\n",
    "**Initial Assumptions** - List the assumptions I (or others) have made so far.\n",
    "\n",
    "* \n",
    "\n",
    "**Assumption Verification** - Verify assumptions if possible.\n",
    "\n",
    "* "
   ]
  },
  {
   "cell_type": "markdown",
   "metadata": {},
   "source": [
    "# 2. Get the Data"
   ]
  },
  {
   "cell_type": "markdown",
   "metadata": {},
   "source": [
    "Note: Automate as much as possible so I can easily get fresh data if needed.\n",
    "\n",
    "**Requirements** - List the data I need and much much I'll need.\n",
    "\n",
    "* \n",
    "\n",
    "**Sources** - Find and document where I can get the data.\n",
    "\n",
    "* \n",
    "\n",
    "**Storage Requirements** - Check how much space it will take.\n",
    "\n",
    "* \n",
    "\n",
    "**Authorization** - Check legal obligations, and get legal/access \n",
    "authorization if necessary.\n",
    "\n",
    "* "
   ]
  },
  {
   "cell_type": "markdown",
   "metadata": {},
   "source": [
    "## Acquire the Data"
   ]
  },
  {
   "cell_type": "code",
   "execution_count": null,
   "metadata": {},
   "outputs": [],
   "source": []
  },
  {
   "cell_type": "markdown",
   "metadata": {},
   "source": [
    "## Format the Data"
   ]
  },
  {
   "cell_type": "markdown",
   "metadata": {},
   "source": [
    "Convert the data to a format I can easily manipulate (without changing the data\n",
    "itself)"
   ]
  },
  {
   "cell_type": "code",
   "execution_count": null,
   "metadata": {},
   "outputs": [],
   "source": []
  },
  {
   "cell_type": "markdown",
   "metadata": {},
   "source": [
    "## Handle Sensitive Information"
   ]
  },
  {
   "cell_type": "markdown",
   "metadata": {},
   "source": [
    "Ensure sensitive information is deleted or protected (e.g., anonymized)"
   ]
  },
  {
   "cell_type": "code",
   "execution_count": null,
   "metadata": {},
   "outputs": [],
   "source": []
  },
  {
   "cell_type": "markdown",
   "metadata": {},
   "source": [
    "## Data Size & Type"
   ]
  },
  {
   "cell_type": "markdown",
   "metadata": {},
   "source": [
    "Check the size and type of data (time series, sample, geographical, etc.)"
   ]
  },
  {
   "cell_type": "code",
   "execution_count": null,
   "metadata": {},
   "outputs": [],
   "source": []
  },
  {
   "cell_type": "markdown",
   "metadata": {},
   "source": [
    "## Train/Test Split"
   ]
  },
  {
   "cell_type": "markdown",
   "metadata": {},
   "source": [
    "Sample a test set, put it aside, and never look at it (no data snooping!)"
   ]
  },
  {
   "cell_type": "code",
   "execution_count": null,
   "metadata": {},
   "outputs": [],
   "source": []
  },
  {
   "cell_type": "markdown",
   "metadata": {},
   "source": [
    "# 3. EDA"
   ]
  },
  {
   "cell_type": "markdown",
   "metadata": {},
   "source": [
    "Note: Try to get insight from a field expert for these steps"
   ]
  },
  {
   "cell_type": "markdown",
   "metadata": {},
   "source": [
    "## Create a Copy"
   ]
  },
  {
   "cell_type": "markdown",
   "metadata": {},
   "source": [
    "Create a copy of the data for exporation (sampling it down to a manageable size\n",
    "if necessary)"
   ]
  },
  {
   "cell_type": "code",
   "execution_count": null,
   "metadata": {},
   "outputs": [],
   "source": []
  },
  {
   "cell_type": "markdown",
   "metadata": {},
   "source": [
    "## Attributes"
   ]
  },
  {
   "cell_type": "markdown",
   "metadata": {},
   "source": [
    "Study each attribute and its characteristics:\n",
    "\n",
    "* Name\n",
    "* Type (categorical, float/int, bounded/unbounded, text, structured, etc.)\n",
    "* % of missing values\n",
    "* Noisiness and tpe of noise (stochastic, outliers, rounding errors, etc.)\n",
    "* Usefulness for the task\n",
    "* Type of distribution (Gaussian, uniform, logarithmic, etc.)\n",
    "\n",
    "| Name | Type | % Null | Noise | Usefulness | Distribution |\n",
    "| ---- | ---- | ------ | ----- | ---------- | ------------ |\n",
    "| | | | | | |\n",
    "\n"
   ]
  },
  {
   "cell_type": "code",
   "execution_count": null,
   "metadata": {},
   "outputs": [],
   "source": []
  },
  {
   "cell_type": "markdown",
   "metadata": {},
   "source": [
    "## Target Attribute(s)"
   ]
  },
  {
   "cell_type": "markdown",
   "metadata": {},
   "source": [
    "For supervised tasks, identify target attributes(s)"
   ]
  },
  {
   "cell_type": "code",
   "execution_count": null,
   "metadata": {},
   "outputs": [],
   "source": []
  },
  {
   "cell_type": "markdown",
   "metadata": {},
   "source": [
    "## Data Visualization"
   ]
  },
  {
   "cell_type": "markdown",
   "metadata": {},
   "source": [
    "Visualize the Data"
   ]
  },
  {
   "cell_type": "code",
   "execution_count": null,
   "metadata": {},
   "outputs": [],
   "source": []
  },
  {
   "cell_type": "markdown",
   "metadata": {},
   "source": [
    "## Correlation"
   ]
  },
  {
   "cell_type": "markdown",
   "metadata": {},
   "source": [
    "Study the correlation between attributes"
   ]
  },
  {
   "cell_type": "code",
   "execution_count": null,
   "metadata": {},
   "outputs": [],
   "source": []
  },
  {
   "cell_type": "markdown",
   "metadata": {},
   "source": [
    "## Learnings"
   ]
  },
  {
   "cell_type": "markdown",
   "metadata": {},
   "source": [
    "**Manual Solution - Revisited** - How would I solve the problem manually?\n",
    "\n",
    "* \n",
    "\n",
    "**Potential Transformations** - Identify the promising transformations I may want to apply.\n",
    "\n",
    "* \n",
    "\n",
    "**Extra Data** - Identify extra data that would be useful (go back to step 2.7)"
   ]
  },
  {
   "cell_type": "markdown",
   "metadata": {},
   "source": [
    "## 3.8. Extra Data"
   ]
  },
  {
   "cell_type": "markdown",
   "metadata": {},
   "source": [
    "Identify extra data that would be useful (go back to step 2.7)"
   ]
  },
  {
   "cell_type": "markdown",
   "metadata": {},
   "source": [
    "## 3.9. Learnings"
   ]
  },
  {
   "cell_type": "markdown",
   "metadata": {},
   "source": [
    "Document what I have learned"
   ]
  },
  {
   "cell_type": "markdown",
   "metadata": {},
   "source": [
    "# 4. Prepare the Data"
   ]
  },
  {
   "cell_type": "markdown",
   "metadata": {},
   "source": [
    "Notes:\n",
    "\n",
    "* Work on copies of the data (keep the original dataset intact)\n",
    "* Write functions for all data transformations I apply, for 5 reasons:\n",
    "  * So I can easily prepare the data the next time I get a fresh dataset.\n",
    "  * So I can easily apply these transformations for future projects.\n",
    "  * To clean and prepare the test set.\n",
    "  * To clean and prepare new data instances once my solution is live.\n",
    "  * To make it easy to treat the preparation choices as hyperparameters."
   ]
  },
  {
   "cell_type": "markdown",
   "metadata": {},
   "source": [
    "## 4.1. Clean the Data"
   ]
  },
  {
   "cell_type": "markdown",
   "metadata": {},
   "source": [
    "### 4.1.1. Outliers"
   ]
  },
  {
   "cell_type": "markdown",
   "metadata": {},
   "source": [
    "Fix or remove outliers, if necessary."
   ]
  },
  {
   "cell_type": "markdown",
   "metadata": {},
   "source": [
    "### 4.1.2. Missing Values"
   ]
  },
  {
   "cell_type": "markdown",
   "metadata": {},
   "source": [
    "Fill in missing values (zero, mean, meadian) or drop the rows/column."
   ]
  },
  {
   "cell_type": "markdown",
   "metadata": {},
   "source": [
    "## 4.2. Feature Selection"
   ]
  },
  {
   "cell_type": "markdown",
   "metadata": {},
   "source": [
    "Drop the attributes that provide no useful information for the task."
   ]
  },
  {
   "cell_type": "markdown",
   "metadata": {},
   "source": [
    "## 4.3. Feature Engineering (Where Appropriate)"
   ]
  },
  {
   "cell_type": "markdown",
   "metadata": {},
   "source": [
    "### 4.3.1. Discretize Continuous Features"
   ]
  },
  {
   "cell_type": "markdown",
   "metadata": {},
   "source": [
    "### 4.3.2. Decompose Features"
   ]
  },
  {
   "cell_type": "markdown",
   "metadata": {},
   "source": [
    "E.g., categorical, date/time, etc."
   ]
  },
  {
   "cell_type": "markdown",
   "metadata": {},
   "source": [
    "### 4.3.3. Transform Features"
   ]
  },
  {
   "cell_type": "markdown",
   "metadata": {},
   "source": [
    "Add promoising transformations of features (e.g., $log(x)$, $\\sqrt{x}$, $x^2$, etc.)"
   ]
  },
  {
   "cell_type": "markdown",
   "metadata": {},
   "source": [
    "### 4.3.4. Aggregate Features"
   ]
  },
  {
   "cell_type": "markdown",
   "metadata": {},
   "source": [
    "Aggregate features into promosing new features"
   ]
  },
  {
   "cell_type": "markdown",
   "metadata": {},
   "source": [
    "## 4.4. Features Scaling"
   ]
  },
  {
   "cell_type": "markdown",
   "metadata": {},
   "source": [
    "Standardize or normalize features"
   ]
  },
  {
   "cell_type": "markdown",
   "metadata": {},
   "source": [
    "# 5. Initial Models"
   ]
  },
  {
   "cell_type": "markdown",
   "metadata": {},
   "source": [
    "Notes\n",
    "\n",
    "* If data is huge, may want to sample smaller training sets to train many \n",
    "  different models in a reasonable time\n",
    "  * Beware, this penalizes complex models such as large neural nets or random\n",
    "    forests.\n",
    "* Again, try to automate these steps as much as possible."
   ]
  },
  {
   "cell_type": "markdown",
   "metadata": {},
   "source": [
    "## 5.1. Model Training"
   ]
  },
  {
   "cell_type": "markdown",
   "metadata": {},
   "source": [
    "Train many quick-and-dirty models from different categories:\n",
    "\n",
    "* Linear\n",
    "* Naive-Bayes\n",
    "* SVM\n",
    "* Random Forest\n",
    "* Neural Network\n",
    "* Etc."
   ]
  },
  {
   "cell_type": "markdown",
   "metadata": {},
   "source": [
    "## 5.2. Measure Performance"
   ]
  },
  {
   "cell_type": "markdown",
   "metadata": {},
   "source": [
    "Measure and compare performance. For each model, use N-fold cross-validation \n",
    "and compute the mean and standard deviation of the performance measure on the N-Folds."
   ]
  },
  {
   "cell_type": "markdown",
   "metadata": {},
   "source": [
    "## 5.3. Significant Variables"
   ]
  },
  {
   "cell_type": "markdown",
   "metadata": {},
   "source": [
    "Analyze the most significant variables for each algorithm."
   ]
  },
  {
   "cell_type": "markdown",
   "metadata": {},
   "source": [
    "## 5.4. Error Types"
   ]
  },
  {
   "cell_type": "markdown",
   "metadata": {},
   "source": [
    "Analyze the types of errors the models made. What data would a human have used \n",
    "to avoid these errors?"
   ]
  },
  {
   "cell_type": "markdown",
   "metadata": {},
   "source": [
    "## 5.5. Feature Engineering - Revisited"
   ]
  },
  {
   "cell_type": "markdown",
   "metadata": {},
   "source": [
    "Perform a quick round of feature selection and engineering."
   ]
  },
  {
   "cell_type": "markdown",
   "metadata": {},
   "source": [
    "## 5.6. Repeat"
   ]
  },
  {
   "cell_type": "markdown",
   "metadata": {},
   "source": [
    "Repeat steps 5.1 - 5.5 one or two more times."
   ]
  },
  {
   "cell_type": "markdown",
   "metadata": {},
   "source": [
    "## 5.7. Model Selection"
   ]
  },
  {
   "cell_type": "markdown",
   "metadata": {},
   "source": [
    "Shortlist the top 3-5 most promising models. Prefer models that make different\n",
    "types of errors."
   ]
  },
  {
   "cell_type": "markdown",
   "metadata": {},
   "source": [
    "# 6. Fine-Tuning"
   ]
  },
  {
   "cell_type": "markdown",
   "metadata": {},
   "source": [
    "Notes\n",
    "\n",
    "* Want to use as much data as possible in this step, especially as I move \n",
    "  toward the end of fine-tuning.\n",
    "* As always, automate wherever possible."
   ]
  },
  {
   "cell_type": "markdown",
   "metadata": {},
   "source": [
    "## 6.1. Hyperparameter Tuning"
   ]
  },
  {
   "cell_type": "markdown",
   "metadata": {},
   "source": [
    "Fine-Tune the hyperparameters using cross-validation:\n",
    "\n",
    "* Treat the data transformation choices as hyperparameters, especially when not\n",
    "  sure about them (e.g., if not sure whether to replace missing values with the\n",
    "  zero or the median, or to drop the rows.)\n",
    "* Unless there are very few hyperparameter values to explore, prefer random\n",
    "  search over grid search. If training is very long, may prefer a Bayesian \n",
    "  optimization approach (e.g., using Gaussian process priors. See work by\n",
    "  [Jasper Snoek et. al.](https://arxiv.org/abs/1206.2944))."
   ]
  },
  {
   "cell_type": "markdown",
   "metadata": {},
   "source": [
    "## 6.2. Try Ensemble Methods"
   ]
  },
  {
   "cell_type": "markdown",
   "metadata": {},
   "source": [
    "Combining best models will often produce better performance than running them \n",
    "individually."
   ]
  },
  {
   "cell_type": "markdown",
   "metadata": {},
   "source": [
    "## 6.3. Final Performance Measure"
   ]
  },
  {
   "cell_type": "markdown",
   "metadata": {},
   "source": [
    "Once confident about the final model, measure its performance on the test set\n",
    "to estimate the generalization error.\n",
    "\n",
    "> ⚠️ Note\n",
    ">\n",
    "> Don't tweak the model after measuring the generalization error. This would\n",
    "> lead to overfitting the test set."
   ]
  },
  {
   "cell_type": "markdown",
   "metadata": {},
   "source": [
    "# 7. Solution Overview"
   ]
  },
  {
   "cell_type": "markdown",
   "metadata": {},
   "source": [
    "Optional.\n",
    "\n",
    "1. Document what has been done\n",
    "2. Create a nice presentation\n",
    "   1. Make sure to highlight the big picture first\n",
    "3. Explain why my solution achieves the business objectives.\n",
    "4. Don't forget to present interesting points noticed along the way.\n",
    "   1. What worked and what didn't work\n",
    "   2. Assumptions and limitations\n",
    "5. Ensure key findings are communicated through beautiful visualizations or \n",
    "   easy-to-remember statements (e.g., 'the median incomde is the number-one \n",
    "   predictor of housing prices.')"
   ]
  },
  {
   "cell_type": "markdown",
   "metadata": {},
   "source": [
    "# 8. Launch"
   ]
  },
  {
   "cell_type": "markdown",
   "metadata": {},
   "source": [
    "1. Get solution ready for production (plug into production data inputs, write \n",
    "   unit tests, etc.)\n",
    "2. Write monitoring code to check the system's live performance at regular \n",
    "   intervals and trigger alerts when it does.\n",
    "   1. Beware of slow degredation: models tend to 'rot' as data evolves.\n",
    "   2. Measuring performance may require a human pipeline (e.g., via a \n",
    "      crowdsourcing service)\n",
    "   3. Also monitor quality of inputs (e.g., a malfunctioning sensor sending \n",
    "      random values, or another team's output becomming stale). This is \n",
    "      particularly important for online learning systems.\n",
    "3. Retrain models on a regular basis with fresh data (automate as much as \n",
    "   possible)"
   ]
  }
 ],
 "metadata": {
  "language_info": {
   "name": "python"
  }
 },
 "nbformat": 4,
 "nbformat_minor": 2
}
